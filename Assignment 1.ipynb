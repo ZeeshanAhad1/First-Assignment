{
 "cells": [
  {
   "cell_type": "code",
   "execution_count": 3,
   "id": "4be7f661-164c-43c1-9266-f06f40cecd0b",
   "metadata": {},
   "outputs": [],
   "source": [
    "# Q1. Create one variable containing following type of data:\n",
    "\n",
    "# (i)\tstring\n",
    "\n",
    "# (ii)\tlist\n",
    "\n",
    "# (iii)\tfloat\n",
    "\n",
    "# (iv)\ttuple"
   ]
  },
  {
   "cell_type": "code",
   "execution_count": 7,
   "id": "9234d2d0-f982-4b98-8fe5-c88a5d494d48",
   "metadata": {},
   "outputs": [],
   "source": [
    "# Answer Q1 :\n",
    "\n",
    "varString = 'Very Good'\n",
    "varList = [3,7,7,3,'How', 4.33, 89,True,42,'Me']\n",
    "varFloat = 5.754\n",
    "varTuple = (4,7,2,'Hii')  # A list which is immutable is called Tuple"
   ]
  },
  {
   "cell_type": "code",
   "execution_count": null,
   "id": "74220e22-d1b9-4481-b902-ecee80815bd4",
   "metadata": {},
   "outputs": [],
   "source": [
    "# Q2. Given are some following variables containing data:\n",
    "# (i)\tvar1 = ' '\n",
    "# (ii)\tvar2 = '[ DS , ML , Python]'\n",
    "# (iii)\tvar3 = [ 'DS' , 'ML' , 'Python' ]\n",
    "# (iv)\tvar4 = 1.\n",
    "\n",
    "# What will be the data type of the above given variable\n",
    "\n",
    "# Answers Q2 :\n",
    "\n",
    "# (i) - String,    (ii) - String,  (iii) - List,  (iv) - Float"
   ]
  },
  {
   "cell_type": "code",
   "execution_count": 8,
   "id": "89e77fc4-d886-4395-85c1-59643e6b8627",
   "metadata": {},
   "outputs": [
    {
     "name": "stdout",
     "output_type": "stream",
     "text": [
      "hii\n",
      "Bye\n"
     ]
    }
   ],
   "source": [
    "# Q3. Explain the use of the following operators using an example:\n",
    "\n",
    "# (i)\t/\n",
    "\n",
    "# (ii)\t% \n",
    "\n",
    "# (iii)\t//\n",
    "\n",
    "# (iv)\t**\n"
   ]
  },
  {
   "cell_type": "code",
   "execution_count": 9,
   "id": "1dfbb0d9-4af8-4d0f-8335-2b9f89782530",
   "metadata": {},
   "outputs": [
    {
     "data": {
      "text/plain": [
       "3.0"
      ]
     },
     "execution_count": 9,
     "metadata": {},
     "output_type": "execute_result"
    }
   ],
   "source": [
    "# Answer Q3 (i) / :\n",
    "# (/) is used to find the quotient on dividing a number by other. For example let us take two number a and b such that\n",
    "a = 15\n",
    "b = 5\n",
    "\n",
    "# Now let us use the operator (/) between a and b, i.e between 15 and 5\n",
    "\n",
    "a/b\n",
    "\n",
    "# on running this code, we will get answer as 3.0, which will be the quotient when we divide 15 by 5\n",
    "# Division in python always gives a float number"
   ]
  },
  {
   "cell_type": "code",
   "execution_count": 10,
   "id": "6adfc2d1-abab-4601-afd1-f7e9941e94f4",
   "metadata": {},
   "outputs": [
    {
     "data": {
      "text/plain": [
       "2"
      ]
     },
     "execution_count": 10,
     "metadata": {},
     "output_type": "execute_result"
    }
   ],
   "source": [
    "# Answer Q3 (ii) % :\n",
    "# (%) is used to find the remainder on diving a number by other. For example let us take two number a and b such that\n",
    "a = 12\n",
    "b = 5\n",
    "\n",
    "# Now let's use (%) between a and b, i.e between 12 and 5\n",
    "\n",
    "a%b\n",
    "\n",
    "# Answer that we will get will be 2, which will be the remainder that we will get on dividing 12 by 5"
   ]
  },
  {
   "cell_type": "code",
   "execution_count": 11,
   "id": "873264f5-9711-4b35-a6a3-56853257a0ae",
   "metadata": {},
   "outputs": [
    {
     "data": {
      "text/plain": [
       "2"
      ]
     },
     "execution_count": 11,
     "metadata": {},
     "output_type": "execute_result"
    }
   ],
   "source": [
    "# Answer Q3 (iii) // :\n",
    "# (//) is used to find the \"interger value only\" on dividing a number by other\n",
    "# Suppose two numbers a and b. Such that \n",
    "a = 7\n",
    "b = 3\n",
    "\n",
    "# let us first divide a by b using (/)\n",
    "\n",
    "a/b\n",
    "\n",
    "# Answer on dividing 7 by 3 will be 2.3333333.. Now let us use this operator (//) on same value\n",
    "\n",
    "a//b\n",
    "\n",
    "# Answer in this case will be two, because the operator (//) provide us only integer value by excluding the float values"
   ]
  },
  {
   "cell_type": "code",
   "execution_count": 13,
   "id": "e5641e04-2e14-4905-ba51-c6aaf5289c81",
   "metadata": {},
   "outputs": [
    {
     "data": {
      "text/plain": [
       "64"
      ]
     },
     "execution_count": 13,
     "metadata": {},
     "output_type": "execute_result"
    }
   ],
   "source": [
    "# Answer Q3 (iv) ** : \n",
    "# (**) is used to find the value of a number raise to the power other. Let us take two number a and b such that\n",
    "a = 4\n",
    "b = 3\n",
    "\n",
    "# Now let us use the operator (**) between a and b, i.e between 4 and 3\n",
    "\n",
    "4**3\n",
    "\n",
    "# Answer that we will get will be 64 because if 3 raise to the power 4 the answer wil be 64. \n",
    "# In simple terms, if  b = 3, a will be multiplied by itself 3 times, i.e (a*a*a), if b is 4 then a will be multiplied by itself 4 times, i.e (a*a*a*a)"
   ]
  },
  {
   "cell_type": "code",
   "execution_count": 15,
   "id": "01f89507-df1d-4abf-9c12-ada112807a4e",
   "metadata": {},
   "outputs": [
    {
     "name": "stdout",
     "output_type": "stream",
     "text": [
      "1\n",
      "<class 'int'>\n",
      "My\n",
      "<class 'str'>\n",
      "58\n",
      "<class 'int'>\n",
      "True\n",
      "<class 'bool'>\n",
      "3.75\n",
      "<class 'float'>\n",
      "(4+8j)\n",
      "<class 'complex'>\n",
      "Ans\n",
      "<class 'str'>\n",
      "6.2\n",
      "<class 'float'>\n",
      "False\n",
      "<class 'bool'>\n",
      "43\n",
      "<class 'int'>\n",
      "All the values with respect to their data types are printed\n"
     ]
    }
   ],
   "source": [
    "# Q4. Create a list of length 10 of your choice containing multiple types of data. Using for loop print the element and its data type.\n",
    "\n",
    "# Answer Q4 :\n",
    "\n",
    "list = [1,\"My\",58,True,3.75, 4 + 8j, \"Ans\",6.2, False,43]\n",
    "\n",
    "for a in list :\n",
    "    print(a)  \n",
    "    print(type(a))\n",
    "else:\n",
    "    print('All the elements of the list with respect to their data types are printed')\n",
    "   "
   ]
  },
  {
   "cell_type": "code",
   "execution_count": 17,
   "id": "0df4d5c8-9f07-45da-9787-e7a7959857aa",
   "metadata": {},
   "outputs": [
    {
     "name": "stdin",
     "output_type": "stream",
     "text": [
      " 100\n",
      " 2\n"
     ]
    },
    {
     "name": "stdout",
     "output_type": "stream",
     "text": [
      "100 is divisible by 2 And it can be divisible 2 times\n"
     ]
    }
   ],
   "source": [
    "# Q5. Using a while loop, verify if the number A is purely divisible by number B and if so then how many times it can be divisible.\n",
    "\n",
    "# Answers Q5 :\n",
    "\n",
    "# Taking a and b as input by user\n",
    "a = int(input())\n",
    "b = int(input())\n",
    "\n",
    "k = a     # Assigning value of a to k.\n",
    "\n",
    "if k%b==0 :\n",
    " count = 0  # A variable to count the number of divisible happened\n",
    " while k%b==0 :\n",
    "  k = k/b\n",
    "  count+=1\n",
    " else :\n",
    "  print(str(a) + \" is divisible by \" + str(b) + \" And it can be divisible \" + str(count) + \" times\")\n",
    "else :\n",
    " print('Sorry, but ' + str(a) + 'is not divisible by ' + str(b))"
   ]
  },
  {
   "cell_type": "code",
   "execution_count": 23,
   "id": "b8299a3f-e09f-48fa-85a2-59373f01c79f",
   "metadata": {},
   "outputs": [
    {
     "name": "stdout",
     "output_type": "stream",
     "text": [
      "<built-in method count of list object at 0x7f7741c517c0>\n",
      "12 : Yes\n",
      "14 : No\n",
      "16 : No\n",
      "19 : No\n",
      "32 : No\n",
      "26 : No\n",
      "27 : Yes\n",
      "29 : No\n",
      "24 : Yes\n",
      "45 : Yes\n",
      "78 : Yes\n",
      "89 : No\n",
      "23 : No\n",
      "71 : No\n",
      "13 : No\n",
      "68 : No\n",
      "43 : No\n",
      "8 : No\n",
      "49 : No\n",
      "34 : No\n",
      "23 : No\n",
      "85 : No\n",
      "48 : Yes\n",
      "96 : Yes\n",
      "86 : No\n",
      "All the above number if shows Yes then it is divisible by 3, if shows No then it is not divisible by 3\n"
     ]
    }
   ],
   "source": [
    "#Q6. Create a list containing 25 int type data. Using for loop and if-else condition print if the element is divisible by 3 or not.\n",
    "\n",
    "# Answers Q6 : \n",
    "\n",
    "list2 = [12,14,16,19,32,26,27,29,24,45,78,89,23,71,13,68,43,8,49,34,23,85,48,96,86]\n",
    "print(list2.count)\n",
    "\n",
    "for i in list2 :\n",
    "    if i%3==0 :\n",
    "        print(str(i) +  \" : Yes\")\n",
    "    else :\n",
    "        print(str(i) + \" : No\")\n",
    "else :\n",
    "    print('All the above number if shows Yes then it is divisible by 3, if shows No then it is not divisible by 3')"
   ]
  },
  {
   "cell_type": "code",
   "execution_count": 25,
   "id": "5373aa00-1e23-4734-8563-5c5240cfe890",
   "metadata": {},
   "outputs": [
    {
     "name": "stdout",
     "output_type": "stream",
     "text": [
      "['Nice', 5.67, 6, 'How', 6, 8.43, 'When', False]\n"
     ]
    }
   ],
   "source": [
    "# Q7 What do you understand about mutable and immutable data types? Give examples for both showing this property\n",
    "\n",
    "# Answer Q7 :\n",
    "\n",
    "# Mutable Data Types \n",
    "# Data types in which we can modify, delete and add elements are Mutable Data types. These includes lists and some other data types.\n",
    "# Let us take an example of List and understand how it is Mutalbe\n",
    "\n",
    "list = [3,5.67,6, \"How\", 6, True, 8.43, \"When\"]\n",
    "print(list)\n",
    "# Now let us perform some actions on this list\n",
    "\n",
    "list[0] = \"Nice\"\n",
    "list.remove(True)\n",
    "list.append(False)\n",
    "\n",
    "print(list)\n",
    "\n",
    "# On printing the list, we will get \"Nice\" instead of 3 because we changed the value of index 0, True is removed from the list because we remove it and False is added to the end of the list because we appended it. All values are modified, delete and added with respect to the functions we perform.\n",
    "# This clearly shows that in Mutable data types elements can be modified, removed and be added.\n",
    "\n",
    "# Immutable data types\n",
    "# Data types in which we can't modify, delete and add new elements are called immutable data types. These includes Integer, String, FLoats, etc\n",
    "# Let us take an example of String and Integer to understand what is Immutable Data Types\n",
    "a = \"Hii\"\n",
    "b = 4\n",
    "\n",
    "# We can't modify, delete and add new elements in a and b, because they are immutable. If we do so we will get an error and we also don't have any functions to perform such type of things.\n",
    "# But we can always assign a new value to immutable data types. For Example\n",
    "\n",
    "a = \"Pretty\"\n",
    "b = 6.444\n",
    "\n",
    "# Note : Assigning a new value to already assigned variable doesn't means that we change the previous value of variable. \n",
    "# When we assign new value to a already assigned variable a different value is created with different reference and the variable just points to the reference of newly assigned value. The older value is not changed"
   ]
  },
  {
   "cell_type": "code",
   "execution_count": null,
   "id": "6017b3a5-d222-43f1-8f26-a3da937aa6b0",
   "metadata": {},
   "outputs": [],
   "source": []
  }
 ],
 "metadata": {
  "kernelspec": {
   "display_name": "Python 3 (ipykernel)",
   "language": "python",
   "name": "python3"
  },
  "language_info": {
   "codemirror_mode": {
    "name": "ipython",
    "version": 3
   },
   "file_extension": ".py",
   "mimetype": "text/x-python",
   "name": "python",
   "nbconvert_exporter": "python",
   "pygments_lexer": "ipython3",
   "version": "3.10.8"
  }
 },
 "nbformat": 4,
 "nbformat_minor": 5
}
